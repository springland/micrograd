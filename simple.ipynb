{
 "cells": [
  {
   "cell_type": "code",
   "execution_count": 1,
   "id": "e253a182-1411-44be-9d79-6bbae507a2fa",
   "metadata": {},
   "outputs": [
    {
     "name": "stdout",
     "output_type": "stream",
     "text": [
      "24.7041\n",
      "138.8338\n",
      "645.5773\n"
     ]
    }
   ],
   "source": [
    "from micrograd.engine import Value\n"
   ]
  },
  {
   "cell_type": "code",
   "execution_count": null,
   "id": "1824346d-f2c3-4d30-abf6-5a1a48493911",
   "metadata": {},
   "outputs": [],
   "source": [
    "b = Value(2.0)"
   ]
  },
  {
   "cell_type": "code",
   "execution_count": null,
   "id": "d9595924-5446-4e00-87d8-eea3b92686ec",
   "metadata": {},
   "outputs": [],
   "source": [
    "c = a + b"
   ]
  },
  {
   "cell_type": "code",
   "execution_count": null,
   "id": "c20bec4d-1ac5-49f8-bd39-c2c655ae3761",
   "metadata": {},
   "outputs": [],
   "source": [
    "d = a * b + b**3"
   ]
  },
  {
   "cell_type": "code",
   "execution_count": null,
   "id": "89250d29-dad5-438f-91ba-c55afa1092c0",
   "metadata": {},
   "outputs": [],
   "source": [
    "c += c + 1"
   ]
  },
  {
   "cell_type": "code",
   "execution_count": null,
   "id": "152ceeba-1f6c-42cf-8214-963fc1b0b371",
   "metadata": {},
   "outputs": [],
   "source": [
    "c += 1 + c + (-a)"
   ]
  },
  {
   "cell_type": "code",
   "execution_count": null,
   "id": "58b66bc6-9b07-4d1e-adac-3cfdecf7e374",
   "metadata": {},
   "outputs": [],
   "source": [
    "d += d * 2 + (b + a).relu()"
   ]
  },
  {
   "cell_type": "code",
   "execution_count": null,
   "id": "29a92af2-8169-4f8c-9226-0b0aa3bb8c24",
   "metadata": {},
   "outputs": [],
   "source": [
    "d += 3 * d + (b - a).relu()"
   ]
  },
  {
   "cell_type": "code",
   "execution_count": null,
   "id": "43c337d7-4dad-44aa-8767-bd2a8328aae5",
   "metadata": {},
   "outputs": [],
   "source": [
    "e = c - d"
   ]
  },
  {
   "cell_type": "code",
   "execution_count": null,
   "id": "2d9e1f99-0da1-4c1f-8d4b-f481dee928c7",
   "metadata": {},
   "outputs": [],
   "source": [
    "f = e**2"
   ]
  },
  {
   "cell_type": "code",
   "execution_count": null,
   "id": "934c6346-0539-4931-b7d4-732cca84f79b",
   "metadata": {},
   "outputs": [],
   "source": [
    "g = f / 2.0"
   ]
  },
  {
   "cell_type": "code",
   "execution_count": null,
   "id": "f3cc3246-e491-4e7c-bcad-a05af5be946c",
   "metadata": {},
   "outputs": [],
   "source": [
    "g += 10.0 / f"
   ]
  },
  {
   "cell_type": "code",
   "execution_count": null,
   "id": "9045ba9b-f9df-4856-8ffd-0739152fbf41",
   "metadata": {},
   "outputs": [],
   "source": [
    "print(f'{g.data:.4f}') # prints 24.7041, the outcome of this forward pass"
   ]
  },
  {
   "cell_type": "code",
   "execution_count": null,
   "id": "4ea79c02-4392-43db-a4c1-f226de0a4f79",
   "metadata": {},
   "outputs": [],
   "source": [
    "g.backward()"
   ]
  },
  {
   "cell_type": "code",
   "execution_count": null,
   "id": "f20ab057-6ea7-4874-b189-3a3a6ec2a660",
   "metadata": {},
   "outputs": [],
   "source": [
    "print(f'{a.grad:.4f}') # prints 138.8338, i.e. the numerical value of dg/da"
   ]
  },
  {
   "cell_type": "code",
   "execution_count": null,
   "id": "c4d3a997-3898-4ab1-baf1-21e4c6d2b3c1",
   "metadata": {},
   "outputs": [],
   "source": [
    "print(f'{b.grad:.4f}') # prints 645.5773, i.e. the numerical value of dg/db"
   ]
  }
 ],
 "metadata": {
  "kernelspec": {
   "display_name": "Python 3 (ipykernel)",
   "language": "python",
   "name": "python3"
  },
  "language_info": {
   "codemirror_mode": {
    "name": "ipython",
    "version": 3
   },
   "file_extension": ".py",
   "mimetype": "text/x-python",
   "name": "python",
   "nbconvert_exporter": "python",
   "pygments_lexer": "ipython3",
   "version": "3.9.2rc1"
  }
 },
 "nbformat": 4,
 "nbformat_minor": 5
}
